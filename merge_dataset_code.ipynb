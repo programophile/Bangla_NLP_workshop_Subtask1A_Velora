{
 "cells": [
  {
   "cell_type": "code",
   "execution_count": null,
   "id": "95071130",
   "metadata": {},
   "outputs": [
    {
     "name": "stdout",
     "output_type": "stream",
     "text": [
      "✅ Merged dataset created with shape: (38941, 3)\n",
      "Labels in merged dataset: ['None' 'Abusive' 'Profane' 'Religious Hate' 'Political Hate' 'Sexism']\n"
     ]
    }
   ],
   "source": [
    "import pandas as pd\n",
    "import numpy as np\n",
    "\n",
    "\n",
    "first_df = pd.read_csv(\"bengali_ hate_v1.0.csv\", sep=\"\\t\", header=None, names=['text', 'label'])\n",
    "\n",
    "\n",
    "second_df = pd.read_csv(\"blp25_hatespeech_subtask_1A_train.tsv\", sep=\"\\t\")\n",
    "\n",
    "\n",
    "np.random.seed(42)\n",
    "first_df['id'] = np.random.randint(1000000, 9999999, size=len(first_df))\n",
    "\n",
    "\n",
    "label_mapping = {\n",
    "    \"Political\": \"Political Hate\",\n",
    "    \"Geopolitical\": \"Political Hate\",   \n",
    "    \"Religious\": \"Religious Hate\",\n",
    "    \"Personal\": \"Abusive\",\n",
    "    \"Gender abusive\": \"Sexism\"\n",
    "}\n",
    "\n",
    "\n",
    "first_df['label'] = first_df['label'].map(lambda x: label_mapping.get(x, \"None\"))\n",
    "\n",
    "\n",
    "first_df = first_df[['id', 'text', 'label']]\n",
    "\n",
    "\n",
    "second_df['label'] = second_df['label'].fillna(\"None\").astype(str)\n",
    "first_df['label'] = first_df['label'].fillna(\"None\").astype(str)\n",
    "\n",
    "# Then merge\n",
    "merged_df = pd.concat([second_df, first_df], ignore_index=True)\n",
    "\n",
    "\n",
    "\n",
    "\n",
    "\n",
    "merged_df.to_csv(\"merged_dataset.tsv\", sep=\"\\t\", index=False)\n",
    "\n",
    "print(\"✅ Merged dataset created with shape:\", merged_df.shape)\n",
    "print(\"Labels in merged dataset:\", merged_df['label'].unique())\n"
   ]
  },
  {
   "cell_type": "code",
   "execution_count": 2,
   "id": "fbfdbc99",
   "metadata": {},
   "outputs": [
    {
     "data": {
      "text/html": [
       "<div>\n",
       "<style scoped>\n",
       "    .dataframe tbody tr th:only-of-type {\n",
       "        vertical-align: middle;\n",
       "    }\n",
       "\n",
       "    .dataframe tbody tr th {\n",
       "        vertical-align: top;\n",
       "    }\n",
       "\n",
       "    .dataframe thead th {\n",
       "        text-align: right;\n",
       "    }\n",
       "</style>\n",
       "<table border=\"1\" class=\"dataframe\">\n",
       "  <thead>\n",
       "    <tr style=\"text-align: right;\">\n",
       "      <th></th>\n",
       "      <th>id</th>\n",
       "      <th>text</th>\n",
       "      <th>label</th>\n",
       "    </tr>\n",
       "  </thead>\n",
       "  <tbody>\n",
       "    <tr>\n",
       "      <th>0</th>\n",
       "      <td>7423388</td>\n",
       "      <td>text</td>\n",
       "      <td>None</td>\n",
       "    </tr>\n",
       "    <tr>\n",
       "      <th>1</th>\n",
       "      <td>7550634</td>\n",
       "      <td>ইনিই হচ্ছেন ভারতের প্রতিরক্ষামন্ত্রী মনোহর পা...</td>\n",
       "      <td>Political Hate</td>\n",
       "    </tr>\n",
       "    <tr>\n",
       "      <th>2</th>\n",
       "      <td>5304572</td>\n",
       "      <td>রেন্ডিয়াকে পৃথীবির মানচিএ থেকে মুচে ফেলতে হবে</td>\n",
       "      <td>Political Hate</td>\n",
       "    </tr>\n",
       "    <tr>\n",
       "      <th>3</th>\n",
       "      <td>3234489</td>\n",
       "      <td>এই মালাউনরা বাংগালিদের সাফল্য দেখে হিংসা করে ব...</td>\n",
       "      <td>Religious Hate</td>\n",
       "    </tr>\n",
       "    <tr>\n",
       "      <th>4</th>\n",
       "      <td>8204212</td>\n",
       "      <td>আমরা বলতে কারা ভারত তাইতো</td>\n",
       "      <td>Political Hate</td>\n",
       "    </tr>\n",
       "  </tbody>\n",
       "</table>\n",
       "</div>"
      ],
      "text/plain": [
       "        id                                               text           label\n",
       "0  7423388                                               text            None\n",
       "1  7550634  ইনিই হচ্ছেন ভারতের প্রতিরক্ষামন্ত্রী মনোহর পা...  Political Hate\n",
       "2  5304572    রেন্ডিয়াকে পৃথীবির মানচিএ থেকে মুচে ফেলতে হবে    Political Hate\n",
       "3  3234489  এই মালাউনরা বাংগালিদের সাফল্য দেখে হিংসা করে ব...  Religious Hate\n",
       "4  8204212                         আমরা বলতে কারা ভারত তাইতো   Political Hate"
      ]
     },
     "execution_count": 2,
     "metadata": {},
     "output_type": "execute_result"
    }
   ],
   "source": [
    "first_df.head()"
   ]
  },
  {
   "cell_type": "code",
   "execution_count": null,
   "id": "fbe7fadf",
   "metadata": {},
   "outputs": [
    {
     "name": "stdout",
     "output_type": "stream",
     "text": [
      "label\n",
      "NaN               19955\n",
      "Abusive            8841\n",
      "Political Hate     6198\n",
      "Profane            2331\n",
      "Religious Hate     1178\n",
      "Sexism              438\n",
      "Name: count, dtype: int64\n"
     ]
    }
   ],
   "source": [
    "import pandas as pd\n",
    "\n",
    "\n",
    "second_df = pd.read_csv(\"merged_dataset.tsv\", sep=\"\\t\")\n",
    "\n",
    "\n",
    "label_counts = second_df['label'].value_counts(dropna=False)\n",
    "\n",
    "print(label_counts)\n",
    "\n"
   ]
  }
 ],
 "metadata": {
  "kernelspec": {
   "display_name": "Python 3",
   "language": "python",
   "name": "python3"
  },
  "language_info": {
   "codemirror_mode": {
    "name": "ipython",
    "version": 3
   },
   "file_extension": ".py",
   "mimetype": "text/x-python",
   "name": "python",
   "nbconvert_exporter": "python",
   "pygments_lexer": "ipython3",
   "version": "3.10.2"
  }
 },
 "nbformat": 4,
 "nbformat_minor": 5
}
